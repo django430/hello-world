{
 "cells": [
  {
   "cell_type": "markdown",
   "metadata": {},
   "source": [
    " ## 実数列の極限"
   ]
  },
  {
   "cell_type": "markdown",
   "metadata": {},
   "source": [
    "- - -\n",
    "$ \\displaystyle \\lim_{n \\to \\infty} \\frac{a^n}{n!} = 0 $\n",
    "- - -\n",
    "\n",
    " 1. a > 0のとき\n",
    "   * $k \\in \\mathbf{N}$を$k > 2a$となるようにとり, $K = \\displaystyle \\frac{k^n}{n!}$と置く. このとき, $\n",
    "$$\n",
    "        \\frac{a^n}{n!} = \\frac\n",
    "$$"
   ]
  },
  {
   "cell_type": "markdown",
   "metadata": {},
   "source": [
    "- - -\n",
    "$ \n",
    "        a > 0に対し, \n",
    "        \\displaystyle \\lim_{n \\to \\infty} \\sqrt[n]{a} = 1\n",
    "$\n",
    "- - -\n",
    " 1. $ a > 1 $のとき\n",
    "   * $ \\forall \\varepsilon > 0 $に対し, $n_0 \\in \\mathbf{N}$を$n_0 > \\displaystyle \\frac{a}{\\varepsilon} $ととる. このとき, $n \\ge n_0$なる$n \\in \\mathbf{N} $に対し,\n",
    "$$\n",
    "        (1 + \\varepsilon)^n > 1 + n\\varepsilon \\ge 1 + n_0\\varepsilon = 1 + a > a.  \n",
    "$$\n",
    "     従って,\n",
    "$$\n",
    "         a < (1 + \\varepsilon)^n \\Leftrightarrow \\sqrt[n]{a} < 1 + \\varepsilon\n",
    "     \\Leftrightarrow  \\sqrt[n]{a} - 1 < \\varepsilon.\n",
    "$$\n",
    "\n",
    " 1. $ a < 1 $のとき\n",
    "   * $ a' =\\displaystyle \\frac{1}{a} $と置くと, $ a' > 1 $となり, 1.を用いて,\n",
    "$$\n",
    "    \\lim_{n \\to \\infty}\\sqrt[n]{a} = \\lim_{n \\to \\infty}\\sqrt[n]{\\frac{1}{a'}}\n",
    "    = \\lim_{n \\to \\infty}\\frac{1}{\\sqrt[n]{a'}}\n",
    "    = \\frac{1}{\\displaystyle \\lim_{n \\to \\infty}\\sqrt[n]{a'}}\n",
    "    = 1.\n",
    "$$\n",
    "    ここで, 極限操作と四則演算の順序の可換性を用いた.\n",
    " 1. $ a = 1 $のとき\n",
    "   * $ \\sqrt[n]{a} = \\sqrt[n]{1} = 1 $より自明.\n"
   ]
  },
  {
   "cell_type": "markdown",
   "metadata": {},
   "source": []
  },
  {
   "cell_type": "code",
   "execution_count": null,
   "metadata": {
    "collapsed": true
   },
   "outputs": [],
   "source": []
  }
 ],
 "metadata": {
  "anaconda-cloud": {},
  "kernelspec": {
   "display_name": "Python [Root]",
   "language": "python",
   "name": "Python [Root]"
  },
  "language_info": {
   "codemirror_mode": {
    "name": "ipython",
    "version": 3
   },
   "file_extension": ".py",
   "mimetype": "text/x-python",
   "name": "python",
   "nbconvert_exporter": "python",
   "pygments_lexer": "ipython3",
   "version": "3.5.2"
  },
  "latex_envs": {
   "bibliofile": "biblio.bib",
   "cite_by": "apalike",
   "current_citInitial": 1,
   "eqLabelWithNumbers": true,
   "eqNumInitial": 0
  },
  "nav_menu": {},
  "toc": {
   "navigate_menu": true,
   "number_sections": true,
   "sideBar": true,
   "threshold": 6,
   "toc_cell": false,
   "toc_section_display": "block",
   "toc_window_display": false
  }
 },
 "nbformat": 4,
 "nbformat_minor": 0
}
